{
 "cells": [
  {
   "cell_type": "code",
   "execution_count": null,
   "metadata": {},
   "outputs": [],
   "source": [
    "from code.Gaussian_SI_MiPOD import Gaussian_SI_MiPOD_4lat_PLS as gemb\n",
    "import numpy as np\n",
    "import numpy.random as npr\n",
    "import numpy.linalg as npl\n",
    "\n",
    "\n",
    "import code.image_conversions as imc\n",
    "\n",
    "from os import path, makedirs, listdir, remove\n",
    "from tqdm import tqdm_notebook as tqdm\n",
    "from PIL import Image\n",
    "from joblib import Parallel, delayed\n",
    "\n",
    "\n",
    "import jpegio as jio"
   ]
  },
  {
   "cell_type": "code",
   "execution_count": null,
   "metadata": {
    "code_folding": [
     0,
     7
    ]
   },
   "outputs": [],
   "source": [
    "comp_info = [{'ac_tbl_no': 0,\n",
    "  'component_id': 1,\n",
    "  'dc_tbl_no': 0,\n",
    "  'h_samp_factor': 1,\n",
    "  'quant_tbl_no': 0,\n",
    "  'v_samp_factor': 1}]\n",
    "\n",
    "def convert_npy_to_jpeg(im_dct, outpath, imname, QF=100):\n",
    "    im_dct = np.round(im_dct)\n",
    "\n",
    "\n",
    "    #im_tmp = (Image.fromarray(im_dct*0+127)).convert('L')\n",
    "    #im_tmp.save(path.join(outpath, imname))\n",
    "    if QF==100:\n",
    "        I_struct = jio.read(path.join('data/skeleton_QF100.jpg'))\n",
    "    elif QF==95:\n",
    "        I_struct = jio.read(path.join('data/jpeg_skeleton_QF95.jpg'))\n",
    "    elif QF==85:\n",
    "        I_struct = jio.read(path.join('data/jpeg_skeleton_QF85.jpg'))\n",
    "    elif QF==75:\n",
    "        I_struct = jio.read(path.join('data/jpeg_skeleton_QF75.jpg'))\n",
    "    else:\n",
    "        print(\"No available skeleton for QF {}\".format(QF))\n",
    "        return(None)\n",
    "    \n",
    "    I_struct.coef_arrays[0][:,:] = im_dct[:,:]\n",
    "    I_struct.optimize_coding = True\n",
    "    try:\n",
    "        I_struct.write(path.join(outpath, imname))\n",
    "    except Exception as e:\n",
    "        print(\"Failed to save jpeg\")"
   ]
  },
  {
   "cell_type": "markdown",
   "metadata": {},
   "source": [
    "# 4Lat-MGE"
   ]
  },
  {
   "cell_type": "code",
   "execution_count": null,
   "metadata": {
    "code_folding": [
     0
    ]
   },
   "outputs": [],
   "source": [
    "def embed(f, mipod):\n",
    "    try:\n",
    "        if not path.isfile(path.join(stego_path, 'precover', f + '.npy')):\n",
    "            precover = np.load(path.join(precover_path, f + '.jpg.npy'))\n",
    "            L1 = np.load(path.join(cov_path, 'L1_'+f + '.npy'))\n",
    "            L2 = np.load(path.join(cov_path, 'L2_'+f + '.npy'))\n",
    "            L3 = np.load(path.join(cov_path, 'L3_'+f + '.npy'))\n",
    "            L4 = np.load(path.join(cov_path, 'L4_'+f + '.npy'))\n",
    "            _, s,alpha = mipod.do_process(precover,L1,L2,L3,L4)\n",
    "            np.save(path.join(stego_path, 'precover', f + '.npy'), s)\n",
    "            np.save(path.join(stego_path, 'alpha', f + '.npy'), alpha)\n",
    "            convert_npy_to_jpeg(s, stego_path, f + '.jpg', QF=95)\n",
    "    except:\n",
    "        pass"
   ]
  },
  {
   "cell_type": "code",
   "execution_count": null,
   "metadata": {
    "code_folding": [
     0
    ]
   },
   "outputs": [],
   "source": [
    "def embed_multiple(f, payloads,QF):\n",
    "    precover = np.load(path.join(precover_path, f + '.jpg.npy'))\n",
    "    L1 = np.load(path.join(cov_path, 'L1_'+f + '.npy'))\n",
    "    L2 = np.load(path.join(cov_path, 'L2_'+f + '.npy'))\n",
    "    L3 = np.load(path.join(cov_path, 'L3_'+f + '.npy'))\n",
    "    L4 = np.load(path.join(cov_path, 'L4_'+f + '.npy'))\n",
    "\n",
    "    if QF == 75:\n",
    "        L1 = L1 * L1_100_to_75\n",
    "        L2 = L2 * L2_100_to_75\n",
    "        L3 = L3 * L3_100_to_75\n",
    "        L4 = L4 * L4_100_to_75\n",
    "    if QF == 95:\n",
    "        L1 = L1 * L1_100_to_95\n",
    "        L2 = L2 * L2_100_to_95\n",
    "        L3 = L3 * L3_100_to_95\n",
    "        L4 = L4 * L4_100_to_95\n",
    "    for p in payloads:\n",
    "        mipod = gemb.Gaussian_SI_MIPOD_process_4lat_PLS(p, table)          \n",
    "        stego_path = path.join(base_path, 'stego',pipeline_key, 'QF'+ str(QF)+ '/4Lat_GE_' + str(p))\n",
    "        _, s,alpha = mipod.do_process(precover,L1,L2,L3,L4)\n",
    "        np.save(path.join(stego_path, 'precover', f + '.npy'), s)\n",
    "        np.save(path.join(stego_path, 'alpha', f + '.npy'), alpha)\n",
    "        convert_npy_to_jpeg(s, stego_path, f + '.jpg', QF=QF)\n"
   ]
  },
  {
   "cell_type": "code",
   "execution_count": null,
   "metadata": {},
   "outputs": [],
   "source": [
    "noise_params = np.load('data/BOSSBase/BOSS_noise_params_robust.npy', allow_pickle=True).item()\n",
    "dataset = np.load('data/BOSSBase/BOSSBase_dataset.npy', allow_pickle=True).item()\n",
    "orient_dict = np.load('data/BOSSBase/orient_dict_BossBase.npy', allow_pickle=True).item()\n",
    "dataset_max_val = np.load('data/BOSSBase/Camera_BOSS_max_val.npy', allow_pickle=True).item()\n",
    "im_idx = np.load('data/BOSSBase/BOSS_edge_crop_idx.npy', allow_pickle=True).item()\n",
    "\n",
    "\n",
    "\n",
    "\n",
    "L1_100_to_95 = np.load('data/L1_100_to_95.npy')\n",
    "L2_100_to_95 = np.load('data/L2_100_to_95.npy')\n",
    "L3_100_to_95 = np.load('data/L3_100_to_95.npy')\n",
    "L4_100_to_95 = np.load('data/L4_100_to_95.npy')\n",
    "\n",
    "L1_100_to_75 = np.load('data/L1_100_to_75.npy')\n",
    "L2_100_to_75 = np.load('data/L2_100_to_75.npy')\n",
    "L3_100_to_75 = np.load('data/L3_100_to_75.npy')\n",
    "L4_100_to_75 = np.load('data/L4_100_to_75.npy')"
   ]
  },
  {
   "cell_type": "code",
   "execution_count": null,
   "metadata": {},
   "outputs": [],
   "source": [
    "#payloads= [0.15, 0.1, 0.05, 0.025, 0.0125]\n",
    "#payloads= [0.25, 0.2, 0.15, 0.1, 0.05]\n",
    "payloads= [0.4, 0.35, 0.3, 0.25, 0.2]\n",
    "\n",
    "QF = 100\n",
    "pipeline_key = 'LIN'\n",
    "base_path = 'datasets/BOSSBase/'\n",
    "\n",
    "# Remove M9\n",
    "im_files = [f.split('.')[0] for f in dataset if dataset[f][0] != 'M9 Digital Camera']\n",
    "\n",
    "cover_path = precover_path = path.join(base_path, pipeline_key, 'QF' + str(QF))\n",
    "precover_path = path.join(base_path, pipeline_key, 'QF'+ str(QF)+ '/precover')\n",
    "cov_path= path.join(base_path, pipeline_key, '4Lat_cov')\n",
    "table = np.load('data/table_discrete_entropy.npy')\n",
    "im_list =  listdir(precover_path)\n",
    "\n",
    "for payload in payloads:\n",
    "   \n",
    "    stego_path = path.join(base_path, 'stego', pipeline_key, 'QF'+ str(QF)+ '/4Lat_GE_' + str(payload))\n",
    "\n",
    "    if not path.isdir(stego_path):\n",
    "        makedirs(path.join(stego_path, 'precover'))\n",
    "        makedirs(path.join(stego_path, 'alpha'))\n",
    "\n",
    "         \n",
    "#Parallel(n_jobs=10)(delayed(embed_multiple)(f, payloads, QF) for f in tqdm(im_files))\n"
   ]
  },
  {
   "cell_type": "code",
   "execution_count": null,
   "metadata": {},
   "outputs": [],
   "source": [
    "k=np.where(np.array(im_files) == '6551')[0][0]\n",
    "embed_multiple(im_files[k], payloads,QF)"
   ]
  },
  {
   "cell_type": "code",
   "execution_count": null,
   "metadata": {},
   "outputs": [],
   "source": []
  }
 ],
 "metadata": {
  "kernelspec": {
   "display_name": "Python 3",
   "language": "python",
   "name": "python3"
  },
  "language_info": {
   "codemirror_mode": {
    "name": "ipython",
    "version": 3
   },
   "file_extension": ".py",
   "mimetype": "text/x-python",
   "name": "python",
   "nbconvert_exporter": "python",
   "pygments_lexer": "ipython3",
   "version": "3.8.3"
  },
  "toc": {
   "base_numbering": 1,
   "nav_menu": {},
   "number_sections": true,
   "sideBar": true,
   "skip_h1_title": false,
   "title_cell": "Table of Contents",
   "title_sidebar": "Contents",
   "toc_cell": false,
   "toc_position": {
    "height": "calc(100% - 180px)",
    "left": "10px",
    "top": "150px",
    "width": "165.567px"
   },
   "toc_section_display": true,
   "toc_window_display": true
  }
 },
 "nbformat": 4,
 "nbformat_minor": 4
}
